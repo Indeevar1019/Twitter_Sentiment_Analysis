{
  "nbformat": 4,
  "nbformat_minor": 0,
  "metadata": {
    "colab": {
      "provenance": []
    },
    "kernelspec": {
      "name": "python3",
      "display_name": "Python 3"
    },
    "language_info": {
      "name": "python"
    }
  },
  "cells": [
    {
      "cell_type": "code",
      "execution_count": null,
      "metadata": {
        "id": "6k4vJgcV6iM3"
      },
      "outputs": [],
      "source": [
        "import numpy as np\n",
        "import pandas as pd\n"
      ]
    },
    {
      "cell_type": "code",
      "source": [
        "from sklearn.model_selection import train_test_split\n",
        "from sklearn.svm import LinearSVC\n",
        "\n",
        "from sklearn.metrics import accuracy_score,classification_report,confusion_matrix\n",
        "from sklearn.feature_extraction.text import TfidfVectorizer"
      ],
      "metadata": {
        "id": "BF_v4H-16kBV"
      },
      "execution_count": null,
      "outputs": []
    },
    {
      "cell_type": "code",
      "source": [
        "df=pd.read_csv('https://raw.githubusercontent.com/laxmimerit/twitter-data/master/twitt30k.csv')\n",
        "df"
      ],
      "metadata": {
        "colab": {
          "base_uri": "https://localhost:8080/",
          "height": 423
        },
        "id": "VuI1oDRR6kKF",
        "outputId": "2800ab21-6e91-4c06-d5ff-acb46f9042c5"
      },
      "execution_count": null,
      "outputs": [
        {
          "output_type": "execute_result",
          "data": {
            "text/plain": [
              "                                                  twitts  sentiment\n",
              "0           @robbiebronniman Sounds like a great night.           1\n",
              "1      Damn the person who stolde my wallet !!!!!  Ma...          1\n",
              "2      Greetings from the piano bench  (photo) http:/...          1\n",
              "3      @drewryanscott i love it!! i love you!! haha f...          1\n",
              "4      @kissthestars Pretty pretty pretty please, pak...          0\n",
              "...                                                  ...        ...\n",
              "29995  @Calumfan1 is it in any way related to photosh...          0\n",
              "29996                   @Swiz_NZ really? wow thats crap           0\n",
              "29997  At the 2010 lexus HS250h press event.  Again, ...          0\n",
              "29998  @karmicunderpath ooooh now there's a nice thou...          1\n",
              "29999  @mariap91 i'd usually ask you about the sun an...          1\n",
              "\n",
              "[30000 rows x 2 columns]"
            ],
            "text/html": [
              "\n",
              "  <div id=\"df-3e464fb6-b5c2-4d49-b90e-d4901f69b369\">\n",
              "    <div class=\"colab-df-container\">\n",
              "      <div>\n",
              "<style scoped>\n",
              "    .dataframe tbody tr th:only-of-type {\n",
              "        vertical-align: middle;\n",
              "    }\n",
              "\n",
              "    .dataframe tbody tr th {\n",
              "        vertical-align: top;\n",
              "    }\n",
              "\n",
              "    .dataframe thead th {\n",
              "        text-align: right;\n",
              "    }\n",
              "</style>\n",
              "<table border=\"1\" class=\"dataframe\">\n",
              "  <thead>\n",
              "    <tr style=\"text-align: right;\">\n",
              "      <th></th>\n",
              "      <th>twitts</th>\n",
              "      <th>sentiment</th>\n",
              "    </tr>\n",
              "  </thead>\n",
              "  <tbody>\n",
              "    <tr>\n",
              "      <th>0</th>\n",
              "      <td>@robbiebronniman Sounds like a great night.</td>\n",
              "      <td>1</td>\n",
              "    </tr>\n",
              "    <tr>\n",
              "      <th>1</th>\n",
              "      <td>Damn the person who stolde my wallet !!!!!  Ma...</td>\n",
              "      <td>1</td>\n",
              "    </tr>\n",
              "    <tr>\n",
              "      <th>2</th>\n",
              "      <td>Greetings from the piano bench  (photo) http:/...</td>\n",
              "      <td>1</td>\n",
              "    </tr>\n",
              "    <tr>\n",
              "      <th>3</th>\n",
              "      <td>@drewryanscott i love it!! i love you!! haha f...</td>\n",
              "      <td>1</td>\n",
              "    </tr>\n",
              "    <tr>\n",
              "      <th>4</th>\n",
              "      <td>@kissthestars Pretty pretty pretty please, pak...</td>\n",
              "      <td>0</td>\n",
              "    </tr>\n",
              "    <tr>\n",
              "      <th>...</th>\n",
              "      <td>...</td>\n",
              "      <td>...</td>\n",
              "    </tr>\n",
              "    <tr>\n",
              "      <th>29995</th>\n",
              "      <td>@Calumfan1 is it in any way related to photosh...</td>\n",
              "      <td>0</td>\n",
              "    </tr>\n",
              "    <tr>\n",
              "      <th>29996</th>\n",
              "      <td>@Swiz_NZ really? wow thats crap</td>\n",
              "      <td>0</td>\n",
              "    </tr>\n",
              "    <tr>\n",
              "      <th>29997</th>\n",
              "      <td>At the 2010 lexus HS250h press event.  Again, ...</td>\n",
              "      <td>0</td>\n",
              "    </tr>\n",
              "    <tr>\n",
              "      <th>29998</th>\n",
              "      <td>@karmicunderpath ooooh now there's a nice thou...</td>\n",
              "      <td>1</td>\n",
              "    </tr>\n",
              "    <tr>\n",
              "      <th>29999</th>\n",
              "      <td>@mariap91 i'd usually ask you about the sun an...</td>\n",
              "      <td>1</td>\n",
              "    </tr>\n",
              "  </tbody>\n",
              "</table>\n",
              "<p>30000 rows × 2 columns</p>\n",
              "</div>\n",
              "      <button class=\"colab-df-convert\" onclick=\"convertToInteractive('df-3e464fb6-b5c2-4d49-b90e-d4901f69b369')\"\n",
              "              title=\"Convert this dataframe to an interactive table.\"\n",
              "              style=\"display:none;\">\n",
              "        \n",
              "  <svg xmlns=\"http://www.w3.org/2000/svg\" height=\"24px\"viewBox=\"0 0 24 24\"\n",
              "       width=\"24px\">\n",
              "    <path d=\"M0 0h24v24H0V0z\" fill=\"none\"/>\n",
              "    <path d=\"M18.56 5.44l.94 2.06.94-2.06 2.06-.94-2.06-.94-.94-2.06-.94 2.06-2.06.94zm-11 1L8.5 8.5l.94-2.06 2.06-.94-2.06-.94L8.5 2.5l-.94 2.06-2.06.94zm10 10l.94 2.06.94-2.06 2.06-.94-2.06-.94-.94-2.06-.94 2.06-2.06.94z\"/><path d=\"M17.41 7.96l-1.37-1.37c-.4-.4-.92-.59-1.43-.59-.52 0-1.04.2-1.43.59L10.3 9.45l-7.72 7.72c-.78.78-.78 2.05 0 2.83L4 21.41c.39.39.9.59 1.41.59.51 0 1.02-.2 1.41-.59l7.78-7.78 2.81-2.81c.8-.78.8-2.07 0-2.86zM5.41 20L4 18.59l7.72-7.72 1.47 1.35L5.41 20z\"/>\n",
              "  </svg>\n",
              "      </button>\n",
              "      \n",
              "  <style>\n",
              "    .colab-df-container {\n",
              "      display:flex;\n",
              "      flex-wrap:wrap;\n",
              "      gap: 12px;\n",
              "    }\n",
              "\n",
              "    .colab-df-convert {\n",
              "      background-color: #E8F0FE;\n",
              "      border: none;\n",
              "      border-radius: 50%;\n",
              "      cursor: pointer;\n",
              "      display: none;\n",
              "      fill: #1967D2;\n",
              "      height: 32px;\n",
              "      padding: 0 0 0 0;\n",
              "      width: 32px;\n",
              "    }\n",
              "\n",
              "    .colab-df-convert:hover {\n",
              "      background-color: #E2EBFA;\n",
              "      box-shadow: 0px 1px 2px rgba(60, 64, 67, 0.3), 0px 1px 3px 1px rgba(60, 64, 67, 0.15);\n",
              "      fill: #174EA6;\n",
              "    }\n",
              "\n",
              "    [theme=dark] .colab-df-convert {\n",
              "      background-color: #3B4455;\n",
              "      fill: #D2E3FC;\n",
              "    }\n",
              "\n",
              "    [theme=dark] .colab-df-convert:hover {\n",
              "      background-color: #434B5C;\n",
              "      box-shadow: 0px 1px 3px 1px rgba(0, 0, 0, 0.15);\n",
              "      filter: drop-shadow(0px 1px 2px rgba(0, 0, 0, 0.3));\n",
              "      fill: #FFFFFF;\n",
              "    }\n",
              "  </style>\n",
              "\n",
              "      <script>\n",
              "        const buttonEl =\n",
              "          document.querySelector('#df-3e464fb6-b5c2-4d49-b90e-d4901f69b369 button.colab-df-convert');\n",
              "        buttonEl.style.display =\n",
              "          google.colab.kernel.accessAllowed ? 'block' : 'none';\n",
              "\n",
              "        async function convertToInteractive(key) {\n",
              "          const element = document.querySelector('#df-3e464fb6-b5c2-4d49-b90e-d4901f69b369');\n",
              "          const dataTable =\n",
              "            await google.colab.kernel.invokeFunction('convertToInteractive',\n",
              "                                                     [key], {});\n",
              "          if (!dataTable) return;\n",
              "\n",
              "          const docLinkHtml = 'Like what you see? Visit the ' +\n",
              "            '<a target=\"_blank\" href=https://colab.research.google.com/notebooks/data_table.ipynb>data table notebook</a>'\n",
              "            + ' to learn more about interactive tables.';\n",
              "          element.innerHTML = '';\n",
              "          dataTable['output_type'] = 'display_data';\n",
              "          await google.colab.output.renderOutput(dataTable, element);\n",
              "          const docLink = document.createElement('div');\n",
              "          docLink.innerHTML = docLinkHtml;\n",
              "          element.appendChild(docLink);\n",
              "        }\n",
              "      </script>\n",
              "    </div>\n",
              "  </div>\n",
              "  "
            ]
          },
          "metadata": {},
          "execution_count": 3
        }
      ]
    },
    {
      "cell_type": "code",
      "source": [
        "df['sentiment'].value_counts()"
      ],
      "metadata": {
        "colab": {
          "base_uri": "https://localhost:8080/"
        },
        "id": "MmtijGsm6kM2",
        "outputId": "c1d52f1d-75c6-4f31-bc00-99504be17584"
      },
      "execution_count": null,
      "outputs": [
        {
          "output_type": "execute_result",
          "data": {
            "text/plain": [
              "1    15000\n",
              "0    15000\n",
              "Name: sentiment, dtype: int64"
            ]
          },
          "metadata": {},
          "execution_count": 4
        }
      ]
    },
    {
      "cell_type": "code",
      "source": [
        "def svm(df):    \n",
        "    X=df['twitts']\n",
        "    y=df['sentiment']\n",
        "    tfidf=TfidfVectorizer()\n",
        "    X=tfidf.fit_transform(X)\n",
        "    X_train,X_test,y_train,y_test=train_test_split(X,y,test_size=0.2,random_state=0,stratify=y)\n",
        "    print('Shape of X:',X.shape)\n",
        "    clf=LinearSVC()\n",
        "    clf.fit(X_train,y_train)\n",
        "    y_pred=clf.predict(X_test)\n",
        "    print()\n",
        "    print('Report')\n",
        "    print(classification_report(y_test,y_pred))\n",
        "    return [tfidf,clf]"
      ],
      "metadata": {
        "id": "l3KVzpAh6kPc"
      },
      "execution_count": null,
      "outputs": []
    },
    {
      "cell_type": "code",
      "source": [
        "%%time\n",
        "l=svm(df)\n",
        "tfidf=l[0]\n",
        "clf=l[1]\n"
      ],
      "metadata": {
        "colab": {
          "base_uri": "https://localhost:8080/"
        },
        "id": "YEY9qqGE6kSH",
        "outputId": "f9fa268f-873c-45dd-d8a9-b4cdf36fe82e"
      },
      "execution_count": null,
      "outputs": [
        {
          "output_type": "stream",
          "name": "stdout",
          "text": [
            "Shape of X: (30000, 40854)\n",
            "\n",
            "Report\n",
            "              precision    recall  f1-score   support\n",
            "\n",
            "           0       0.75      0.74      0.75      3000\n",
            "           1       0.74      0.75      0.75      3000\n",
            "\n",
            "    accuracy                           0.75      6000\n",
            "   macro avg       0.75      0.75      0.75      6000\n",
            "weighted avg       0.75      0.75      0.75      6000\n",
            "\n",
            "CPU times: user 1.29 s, sys: 14.9 ms, total: 1.31 s\n",
            "Wall time: 1.37 s\n"
          ]
        }
      ]
    },
    {
      "cell_type": "code",
      "source": [
        "t=['i am very happy']"
      ],
      "metadata": {
        "id": "mpvxA5hf6kUh"
      },
      "execution_count": null,
      "outputs": []
    },
    {
      "cell_type": "code",
      "source": [
        "clf.predict(tfidf.transform(t))"
      ],
      "metadata": {
        "colab": {
          "base_uri": "https://localhost:8080/"
        },
        "id": "2CejXBia6kW-",
        "outputId": "a0a9acb2-8a18-43c4-b094-b4f01b9d1712"
      },
      "execution_count": null,
      "outputs": [
        {
          "output_type": "execute_result",
          "data": {
            "text/plain": [
              "array([1])"
            ]
          },
          "metadata": {},
          "execution_count": 8
        }
      ]
    },
    {
      "cell_type": "code",
      "source": [
        "import re\n",
        "import os\n",
        "import sys\n",
        "import json\n",
        "\n",
        "import pandas as pd\n",
        "import numpy as np\n",
        "import spacy\n",
        "from spacy.lang.en.stop_words import STOP_WORDS as stopwords\n",
        "from bs4 import BeautifulSoup\n",
        "import unicodedata\n",
        "from textblob import TextBlob\n",
        "import en_core_web_sm\n",
        "\n",
        "from sklearn.feature_extraction.text import CountVectorizer"
      ],
      "metadata": {
        "id": "8DJJfNaC6kZP"
      },
      "execution_count": null,
      "outputs": []
    },
    {
      "cell_type": "code",
      "source": [
        "pip install git+https://github.com/Indeevar1019/preprocess_Indeevar1019.git"
      ],
      "metadata": {
        "colab": {
          "base_uri": "https://localhost:8080/"
        },
        "id": "mlcah9Fbfg1v",
        "outputId": "df799e1f-3234-4e9f-8a54-88b9b2b8d8a3"
      },
      "execution_count": null,
      "outputs": [
        {
          "output_type": "stream",
          "name": "stdout",
          "text": [
            "Looking in indexes: https://pypi.org/simple, https://us-python.pkg.dev/colab-wheels/public/simple/\n",
            "Collecting git+https://github.com/Indeevar1019/preprocess_Indeevar1019.git\n",
            "  Cloning https://github.com/Indeevar1019/preprocess_Indeevar1019.git to /tmp/pip-req-build-bce78ezf\n",
            "  Running command git clone --filter=blob:none --quiet https://github.com/Indeevar1019/preprocess_Indeevar1019.git /tmp/pip-req-build-bce78ezf\n",
            "  Resolved https://github.com/Indeevar1019/preprocess_Indeevar1019.git to commit 2ed4ea6ef527ca385eae9daf8500c3b8c636854c\n",
            "  Preparing metadata (setup.py) ... \u001b[?25l\u001b[?25hdone\n",
            "Building wheels for collected packages: preprocess-Indeevar10\n",
            "  Building wheel for preprocess-Indeevar10 (setup.py) ... \u001b[?25l\u001b[?25hdone\n",
            "  Created wheel for preprocess-Indeevar10: filename=preprocess_Indeevar10-0.0.4-py3-none-any.whl size=3869 sha256=f4619779556763367fb1ecd6efb3d637c87bad3d13c69edf6e8342901c9ff74a\n",
            "  Stored in directory: /tmp/pip-ephem-wheel-cache-jjfc3rlw/wheels/e8/75/5a/6a0ef2f522c7365b23fc26e7c0765d0c3f06b435d6db8902b6\n",
            "Successfully built preprocess-Indeevar10\n",
            "Installing collected packages: preprocess-Indeevar10\n",
            "Successfully installed preprocess-Indeevar10-0.0.4\n"
          ]
        }
      ]
    },
    {
      "cell_type": "code",
      "source": [
        "import preprocess_Indeevar1019 as pp"
      ],
      "metadata": {
        "id": "KsSUlcA_fiHK"
      },
      "execution_count": null,
      "outputs": []
    },
    {
      "cell_type": "code",
      "source": [
        "df['twitts']=df['twitts'].apply(lambda x: x.lower())"
      ],
      "metadata": {
        "id": "2uCQBizy6kby"
      },
      "execution_count": null,
      "outputs": []
    },
    {
      "cell_type": "code",
      "source": [
        "df['twitts']=df['twitts'].apply(lambda x: pp.cont_exp(x))"
      ],
      "metadata": {
        "id": "KQhf6OxC6kd8"
      },
      "execution_count": null,
      "outputs": []
    },
    {
      "cell_type": "code",
      "source": [
        "df"
      ],
      "metadata": {
        "colab": {
          "base_uri": "https://localhost:8080/",
          "height": 423
        },
        "id": "xgpbjbheQVi9",
        "outputId": "ab342513-4ef0-401e-84bf-84eec9efba11"
      },
      "execution_count": null,
      "outputs": [
        {
          "output_type": "execute_result",
          "data": {
            "text/plain": [
              "                                                  twitts  sentiment\n",
              "0           @robbiebronniman sounds like a great night.           1\n",
              "1      damn the person who stolde my wallet !!!!!  ma...          1\n",
              "2      greetings from the piano bench  (photo) http:/...          1\n",
              "3      @drewryanscott i love it!! i love you!! haha f...          1\n",
              "4      @kissthestars pretty pretty pretty please, pak...          0\n",
              "...                                                  ...        ...\n",
              "29995  @calumfan1 is it in any way related to photosh...          0\n",
              "29996                   @swiz_nz really? wow thats crap           0\n",
              "29997  at the 2010 lexus hs250h press event.  again, ...          0\n",
              "29998  @karmicunderpath ooooh now there is a nice tho...          1\n",
              "29999  @mariap91 i would usually ask you about the su...          1\n",
              "\n",
              "[30000 rows x 2 columns]"
            ],
            "text/html": [
              "\n",
              "  <div id=\"df-2ec870d7-02e9-43b1-af43-b1824abce7a7\">\n",
              "    <div class=\"colab-df-container\">\n",
              "      <div>\n",
              "<style scoped>\n",
              "    .dataframe tbody tr th:only-of-type {\n",
              "        vertical-align: middle;\n",
              "    }\n",
              "\n",
              "    .dataframe tbody tr th {\n",
              "        vertical-align: top;\n",
              "    }\n",
              "\n",
              "    .dataframe thead th {\n",
              "        text-align: right;\n",
              "    }\n",
              "</style>\n",
              "<table border=\"1\" class=\"dataframe\">\n",
              "  <thead>\n",
              "    <tr style=\"text-align: right;\">\n",
              "      <th></th>\n",
              "      <th>twitts</th>\n",
              "      <th>sentiment</th>\n",
              "    </tr>\n",
              "  </thead>\n",
              "  <tbody>\n",
              "    <tr>\n",
              "      <th>0</th>\n",
              "      <td>@robbiebronniman sounds like a great night.</td>\n",
              "      <td>1</td>\n",
              "    </tr>\n",
              "    <tr>\n",
              "      <th>1</th>\n",
              "      <td>damn the person who stolde my wallet !!!!!  ma...</td>\n",
              "      <td>1</td>\n",
              "    </tr>\n",
              "    <tr>\n",
              "      <th>2</th>\n",
              "      <td>greetings from the piano bench  (photo) http:/...</td>\n",
              "      <td>1</td>\n",
              "    </tr>\n",
              "    <tr>\n",
              "      <th>3</th>\n",
              "      <td>@drewryanscott i love it!! i love you!! haha f...</td>\n",
              "      <td>1</td>\n",
              "    </tr>\n",
              "    <tr>\n",
              "      <th>4</th>\n",
              "      <td>@kissthestars pretty pretty pretty please, pak...</td>\n",
              "      <td>0</td>\n",
              "    </tr>\n",
              "    <tr>\n",
              "      <th>...</th>\n",
              "      <td>...</td>\n",
              "      <td>...</td>\n",
              "    </tr>\n",
              "    <tr>\n",
              "      <th>29995</th>\n",
              "      <td>@calumfan1 is it in any way related to photosh...</td>\n",
              "      <td>0</td>\n",
              "    </tr>\n",
              "    <tr>\n",
              "      <th>29996</th>\n",
              "      <td>@swiz_nz really? wow thats crap</td>\n",
              "      <td>0</td>\n",
              "    </tr>\n",
              "    <tr>\n",
              "      <th>29997</th>\n",
              "      <td>at the 2010 lexus hs250h press event.  again, ...</td>\n",
              "      <td>0</td>\n",
              "    </tr>\n",
              "    <tr>\n",
              "      <th>29998</th>\n",
              "      <td>@karmicunderpath ooooh now there is a nice tho...</td>\n",
              "      <td>1</td>\n",
              "    </tr>\n",
              "    <tr>\n",
              "      <th>29999</th>\n",
              "      <td>@mariap91 i would usually ask you about the su...</td>\n",
              "      <td>1</td>\n",
              "    </tr>\n",
              "  </tbody>\n",
              "</table>\n",
              "<p>30000 rows × 2 columns</p>\n",
              "</div>\n",
              "      <button class=\"colab-df-convert\" onclick=\"convertToInteractive('df-2ec870d7-02e9-43b1-af43-b1824abce7a7')\"\n",
              "              title=\"Convert this dataframe to an interactive table.\"\n",
              "              style=\"display:none;\">\n",
              "        \n",
              "  <svg xmlns=\"http://www.w3.org/2000/svg\" height=\"24px\"viewBox=\"0 0 24 24\"\n",
              "       width=\"24px\">\n",
              "    <path d=\"M0 0h24v24H0V0z\" fill=\"none\"/>\n",
              "    <path d=\"M18.56 5.44l.94 2.06.94-2.06 2.06-.94-2.06-.94-.94-2.06-.94 2.06-2.06.94zm-11 1L8.5 8.5l.94-2.06 2.06-.94-2.06-.94L8.5 2.5l-.94 2.06-2.06.94zm10 10l.94 2.06.94-2.06 2.06-.94-2.06-.94-.94-2.06-.94 2.06-2.06.94z\"/><path d=\"M17.41 7.96l-1.37-1.37c-.4-.4-.92-.59-1.43-.59-.52 0-1.04.2-1.43.59L10.3 9.45l-7.72 7.72c-.78.78-.78 2.05 0 2.83L4 21.41c.39.39.9.59 1.41.59.51 0 1.02-.2 1.41-.59l7.78-7.78 2.81-2.81c.8-.78.8-2.07 0-2.86zM5.41 20L4 18.59l7.72-7.72 1.47 1.35L5.41 20z\"/>\n",
              "  </svg>\n",
              "      </button>\n",
              "      \n",
              "  <style>\n",
              "    .colab-df-container {\n",
              "      display:flex;\n",
              "      flex-wrap:wrap;\n",
              "      gap: 12px;\n",
              "    }\n",
              "\n",
              "    .colab-df-convert {\n",
              "      background-color: #E8F0FE;\n",
              "      border: none;\n",
              "      border-radius: 50%;\n",
              "      cursor: pointer;\n",
              "      display: none;\n",
              "      fill: #1967D2;\n",
              "      height: 32px;\n",
              "      padding: 0 0 0 0;\n",
              "      width: 32px;\n",
              "    }\n",
              "\n",
              "    .colab-df-convert:hover {\n",
              "      background-color: #E2EBFA;\n",
              "      box-shadow: 0px 1px 2px rgba(60, 64, 67, 0.3), 0px 1px 3px 1px rgba(60, 64, 67, 0.15);\n",
              "      fill: #174EA6;\n",
              "    }\n",
              "\n",
              "    [theme=dark] .colab-df-convert {\n",
              "      background-color: #3B4455;\n",
              "      fill: #D2E3FC;\n",
              "    }\n",
              "\n",
              "    [theme=dark] .colab-df-convert:hover {\n",
              "      background-color: #434B5C;\n",
              "      box-shadow: 0px 1px 3px 1px rgba(0, 0, 0, 0.15);\n",
              "      filter: drop-shadow(0px 1px 2px rgba(0, 0, 0, 0.3));\n",
              "      fill: #FFFFFF;\n",
              "    }\n",
              "  </style>\n",
              "\n",
              "      <script>\n",
              "        const buttonEl =\n",
              "          document.querySelector('#df-2ec870d7-02e9-43b1-af43-b1824abce7a7 button.colab-df-convert');\n",
              "        buttonEl.style.display =\n",
              "          google.colab.kernel.accessAllowed ? 'block' : 'none';\n",
              "\n",
              "        async function convertToInteractive(key) {\n",
              "          const element = document.querySelector('#df-2ec870d7-02e9-43b1-af43-b1824abce7a7');\n",
              "          const dataTable =\n",
              "            await google.colab.kernel.invokeFunction('convertToInteractive',\n",
              "                                                     [key], {});\n",
              "          if (!dataTable) return;\n",
              "\n",
              "          const docLinkHtml = 'Like what you see? Visit the ' +\n",
              "            '<a target=\"_blank\" href=https://colab.research.google.com/notebooks/data_table.ipynb>data table notebook</a>'\n",
              "            + ' to learn more about interactive tables.';\n",
              "          element.innerHTML = '';\n",
              "          dataTable['output_type'] = 'display_data';\n",
              "          await google.colab.output.renderOutput(dataTable, element);\n",
              "          const docLink = document.createElement('div');\n",
              "          docLink.innerHTML = docLinkHtml;\n",
              "          element.appendChild(docLink);\n",
              "        }\n",
              "      </script>\n",
              "    </div>\n",
              "  </div>\n",
              "  "
            ]
          },
          "metadata": {},
          "execution_count": 14
        }
      ]
    },
    {
      "cell_type": "code",
      "source": [
        "svm(df)"
      ],
      "metadata": {
        "colab": {
          "base_uri": "https://localhost:8080/"
        },
        "id": "I1ex3ERHMySh",
        "outputId": "c6646473-9042-4fc9-cf8a-81a730ea5fd8"
      },
      "execution_count": null,
      "outputs": [
        {
          "output_type": "stream",
          "name": "stdout",
          "text": [
            "Shape of X: (30000, 40846)\n",
            "\n",
            "Report\n",
            "              precision    recall  f1-score   support\n",
            "\n",
            "           0       0.75      0.74      0.75      3000\n",
            "           1       0.75      0.76      0.75      3000\n",
            "\n",
            "    accuracy                           0.75      6000\n",
            "   macro avg       0.75      0.75      0.75      6000\n",
            "weighted avg       0.75      0.75      0.75      6000\n",
            "\n"
          ]
        },
        {
          "output_type": "execute_result",
          "data": {
            "text/plain": [
              "[TfidfVectorizer(), LinearSVC()]"
            ]
          },
          "metadata": {},
          "execution_count": 15
        }
      ]
    },
    {
      "cell_type": "code",
      "source": [
        "#remove emails and urls\n",
        "df['twitts']=df['twitts'].apply(lambda x: pp.remove_emails(x))\n",
        "df['twitts']=df['twitts'].apply(lambda x: pp.remove_urls(x))\n",
        "df['twitts']=df['twitts'].apply(lambda x: pp.remove_rt(x))\n",
        "df['twitts']=df['twitts'].apply(lambda x: pp.remove_html_tags(x))\n",
        "df['twitts']=df['twitts'].apply(lambda x: pp.remove_special_chars(x))\n"
      ],
      "metadata": {
        "colab": {
          "base_uri": "https://localhost:8080/"
        },
        "id": "NZy5WbeeNUAx",
        "outputId": "216e5a64-ad90-4d32-cf84-9cded738f3cd"
      },
      "execution_count": null,
      "outputs": [
        {
          "output_type": "stream",
          "name": "stderr",
          "text": [
            "/usr/local/lib/python3.10/dist-packages/preprocess_Indeevar1019/utils.py:173: MarkupResemblesLocatorWarning: The input looks more like a filename than markup. You may want to open this file and pass the filehandle into Beautiful Soup.\n",
            "  return BeautifulSoup(x, 'lxml').get_text().strip()\n"
          ]
        }
      ]
    },
    {
      "cell_type": "code",
      "source": [
        "df"
      ],
      "metadata": {
        "colab": {
          "base_uri": "https://localhost:8080/",
          "height": 423
        },
        "id": "y-uTXVJvNUI8",
        "outputId": "75427386-361c-43ed-cf1b-faa9f43312fe"
      },
      "execution_count": null,
      "outputs": [
        {
          "output_type": "execute_result",
          "data": {
            "text/plain": [
              "                                                  twitts  sentiment\n",
              "0              robbiebronniman sounds like a great night          1\n",
              "1      damn the person who stolde my wallet may karma...          1\n",
              "2                   greetings from the piano bench photo          1\n",
              "3      drewryanscott i love it i love you haha forget...          1\n",
              "4      kissthestars pretty pretty pretty please pakid...          0\n",
              "...                                                  ...        ...\n",
              "29995    calumfan1 is it in any way related to photoshop          0\n",
              "29996                      swiz_nz really wow thats crap          0\n",
              "29997  at the 2010 lexus hs250h press event again can...          0\n",
              "29998  karmicunderpath ooooh now there is a nice thought          1\n",
              "29999  mariap91 i would usually ask you about the sun...          1\n",
              "\n",
              "[30000 rows x 2 columns]"
            ],
            "text/html": [
              "\n",
              "  <div id=\"df-5a4c2d94-47f2-42bb-9307-395c2e5874a6\">\n",
              "    <div class=\"colab-df-container\">\n",
              "      <div>\n",
              "<style scoped>\n",
              "    .dataframe tbody tr th:only-of-type {\n",
              "        vertical-align: middle;\n",
              "    }\n",
              "\n",
              "    .dataframe tbody tr th {\n",
              "        vertical-align: top;\n",
              "    }\n",
              "\n",
              "    .dataframe thead th {\n",
              "        text-align: right;\n",
              "    }\n",
              "</style>\n",
              "<table border=\"1\" class=\"dataframe\">\n",
              "  <thead>\n",
              "    <tr style=\"text-align: right;\">\n",
              "      <th></th>\n",
              "      <th>twitts</th>\n",
              "      <th>sentiment</th>\n",
              "    </tr>\n",
              "  </thead>\n",
              "  <tbody>\n",
              "    <tr>\n",
              "      <th>0</th>\n",
              "      <td>robbiebronniman sounds like a great night</td>\n",
              "      <td>1</td>\n",
              "    </tr>\n",
              "    <tr>\n",
              "      <th>1</th>\n",
              "      <td>damn the person who stolde my wallet may karma...</td>\n",
              "      <td>1</td>\n",
              "    </tr>\n",
              "    <tr>\n",
              "      <th>2</th>\n",
              "      <td>greetings from the piano bench photo</td>\n",
              "      <td>1</td>\n",
              "    </tr>\n",
              "    <tr>\n",
              "      <th>3</th>\n",
              "      <td>drewryanscott i love it i love you haha forget...</td>\n",
              "      <td>1</td>\n",
              "    </tr>\n",
              "    <tr>\n",
              "      <th>4</th>\n",
              "      <td>kissthestars pretty pretty pretty please pakid...</td>\n",
              "      <td>0</td>\n",
              "    </tr>\n",
              "    <tr>\n",
              "      <th>...</th>\n",
              "      <td>...</td>\n",
              "      <td>...</td>\n",
              "    </tr>\n",
              "    <tr>\n",
              "      <th>29995</th>\n",
              "      <td>calumfan1 is it in any way related to photoshop</td>\n",
              "      <td>0</td>\n",
              "    </tr>\n",
              "    <tr>\n",
              "      <th>29996</th>\n",
              "      <td>swiz_nz really wow thats crap</td>\n",
              "      <td>0</td>\n",
              "    </tr>\n",
              "    <tr>\n",
              "      <th>29997</th>\n",
              "      <td>at the 2010 lexus hs250h press event again can...</td>\n",
              "      <td>0</td>\n",
              "    </tr>\n",
              "    <tr>\n",
              "      <th>29998</th>\n",
              "      <td>karmicunderpath ooooh now there is a nice thought</td>\n",
              "      <td>1</td>\n",
              "    </tr>\n",
              "    <tr>\n",
              "      <th>29999</th>\n",
              "      <td>mariap91 i would usually ask you about the sun...</td>\n",
              "      <td>1</td>\n",
              "    </tr>\n",
              "  </tbody>\n",
              "</table>\n",
              "<p>30000 rows × 2 columns</p>\n",
              "</div>\n",
              "      <button class=\"colab-df-convert\" onclick=\"convertToInteractive('df-5a4c2d94-47f2-42bb-9307-395c2e5874a6')\"\n",
              "              title=\"Convert this dataframe to an interactive table.\"\n",
              "              style=\"display:none;\">\n",
              "        \n",
              "  <svg xmlns=\"http://www.w3.org/2000/svg\" height=\"24px\"viewBox=\"0 0 24 24\"\n",
              "       width=\"24px\">\n",
              "    <path d=\"M0 0h24v24H0V0z\" fill=\"none\"/>\n",
              "    <path d=\"M18.56 5.44l.94 2.06.94-2.06 2.06-.94-2.06-.94-.94-2.06-.94 2.06-2.06.94zm-11 1L8.5 8.5l.94-2.06 2.06-.94-2.06-.94L8.5 2.5l-.94 2.06-2.06.94zm10 10l.94 2.06.94-2.06 2.06-.94-2.06-.94-.94-2.06-.94 2.06-2.06.94z\"/><path d=\"M17.41 7.96l-1.37-1.37c-.4-.4-.92-.59-1.43-.59-.52 0-1.04.2-1.43.59L10.3 9.45l-7.72 7.72c-.78.78-.78 2.05 0 2.83L4 21.41c.39.39.9.59 1.41.59.51 0 1.02-.2 1.41-.59l7.78-7.78 2.81-2.81c.8-.78.8-2.07 0-2.86zM5.41 20L4 18.59l7.72-7.72 1.47 1.35L5.41 20z\"/>\n",
              "  </svg>\n",
              "      </button>\n",
              "      \n",
              "  <style>\n",
              "    .colab-df-container {\n",
              "      display:flex;\n",
              "      flex-wrap:wrap;\n",
              "      gap: 12px;\n",
              "    }\n",
              "\n",
              "    .colab-df-convert {\n",
              "      background-color: #E8F0FE;\n",
              "      border: none;\n",
              "      border-radius: 50%;\n",
              "      cursor: pointer;\n",
              "      display: none;\n",
              "      fill: #1967D2;\n",
              "      height: 32px;\n",
              "      padding: 0 0 0 0;\n",
              "      width: 32px;\n",
              "    }\n",
              "\n",
              "    .colab-df-convert:hover {\n",
              "      background-color: #E2EBFA;\n",
              "      box-shadow: 0px 1px 2px rgba(60, 64, 67, 0.3), 0px 1px 3px 1px rgba(60, 64, 67, 0.15);\n",
              "      fill: #174EA6;\n",
              "    }\n",
              "\n",
              "    [theme=dark] .colab-df-convert {\n",
              "      background-color: #3B4455;\n",
              "      fill: #D2E3FC;\n",
              "    }\n",
              "\n",
              "    [theme=dark] .colab-df-convert:hover {\n",
              "      background-color: #434B5C;\n",
              "      box-shadow: 0px 1px 3px 1px rgba(0, 0, 0, 0.15);\n",
              "      filter: drop-shadow(0px 1px 2px rgba(0, 0, 0, 0.3));\n",
              "      fill: #FFFFFF;\n",
              "    }\n",
              "  </style>\n",
              "\n",
              "      <script>\n",
              "        const buttonEl =\n",
              "          document.querySelector('#df-5a4c2d94-47f2-42bb-9307-395c2e5874a6 button.colab-df-convert');\n",
              "        buttonEl.style.display =\n",
              "          google.colab.kernel.accessAllowed ? 'block' : 'none';\n",
              "\n",
              "        async function convertToInteractive(key) {\n",
              "          const element = document.querySelector('#df-5a4c2d94-47f2-42bb-9307-395c2e5874a6');\n",
              "          const dataTable =\n",
              "            await google.colab.kernel.invokeFunction('convertToInteractive',\n",
              "                                                     [key], {});\n",
              "          if (!dataTable) return;\n",
              "\n",
              "          const docLinkHtml = 'Like what you see? Visit the ' +\n",
              "            '<a target=\"_blank\" href=https://colab.research.google.com/notebooks/data_table.ipynb>data table notebook</a>'\n",
              "            + ' to learn more about interactive tables.';\n",
              "          element.innerHTML = '';\n",
              "          dataTable['output_type'] = 'display_data';\n",
              "          await google.colab.output.renderOutput(dataTable, element);\n",
              "          const docLink = document.createElement('div');\n",
              "          docLink.innerHTML = docLinkHtml;\n",
              "          element.appendChild(docLink);\n",
              "        }\n",
              "      </script>\n",
              "    </div>\n",
              "  </div>\n",
              "  "
            ]
          },
          "metadata": {},
          "execution_count": 17
        }
      ]
    },
    {
      "cell_type": "code",
      "source": [
        "tfidf,clf=svm(df)"
      ],
      "metadata": {
        "colab": {
          "base_uri": "https://localhost:8080/"
        },
        "id": "tgRVpt1ONUR3",
        "outputId": "aa349647-c748-4207-c07d-a8c438d29b12"
      },
      "execution_count": null,
      "outputs": [
        {
          "output_type": "stream",
          "name": "stdout",
          "text": [
            "Shape of X: (30000, 42931)\n",
            "\n",
            "Report\n",
            "              precision    recall  f1-score   support\n",
            "\n",
            "           0       0.75      0.74      0.74      3000\n",
            "           1       0.74      0.75      0.75      3000\n",
            "\n",
            "    accuracy                           0.75      6000\n",
            "   macro avg       0.75      0.75      0.75      6000\n",
            "weighted avg       0.75      0.75      0.75      6000\n",
            "\n"
          ]
        }
      ]
    },
    {
      "cell_type": "code",
      "source": [
        "clf.predict(tfidf.transform(t))"
      ],
      "metadata": {
        "colab": {
          "base_uri": "https://localhost:8080/"
        },
        "id": "_f6tJ8-uNUYQ",
        "outputId": "ee138bd8-3efa-4dd7-d6c2-484ab834016d"
      },
      "execution_count": null,
      "outputs": [
        {
          "output_type": "execute_result",
          "data": {
            "text/plain": [
              "array([1])"
            ]
          },
          "metadata": {},
          "execution_count": 19
        }
      ]
    },
    {
      "cell_type": "code",
      "source": [
        "#Fine tune of our model\n",
        "def svm(df):    \n",
        "    X=df['twitts']\n",
        "    y=df['sentiment']\n",
        "    tfidf=TfidfVectorizer(norm='l1',ngram_range=(1,2),analyzer='word',max_features=5000)\n",
        "    X=tfidf.fit_transform(X)\n",
        "    X_train,X_test,y_train,y_test=train_test_split(X,y,test_size=0.2,random_state=0,stratify=y)\n",
        "    print('Shape of X:',X.shape)\n",
        "    clf=LinearSVC()\n",
        "    clf.fit(X_train,y_train)\n",
        "    y_pred=clf.predict(X_test)\n",
        "    #y_train_pred = clf.predict(X_train)\n",
        "   # y_test_pred = clf.predict(X_test)\n",
        "    print()\n",
        "    print('Report')\n",
        "    print(classification_report(y_test,y_pred))\n",
        "    predTrain =clf.predict(X_train)\n",
        "    #accuracy_score(predTrain, trainY)\n",
        "    training_scores(predTrain, y_train)\n",
        "    validation_scores(y_test, y_pred)\n",
        "\n",
        "    return [tfidf,clf]\n",
        "svm(df)\n"
      ],
      "metadata": {
        "colab": {
          "base_uri": "https://localhost:8080/"
        },
        "id": "KYu60e-QNUe_",
        "outputId": "13bc87e5-ec10-408e-84bb-e52dd2b7a808"
      },
      "execution_count": null,
      "outputs": [
        {
          "output_type": "stream",
          "name": "stdout",
          "text": [
            "Shape of X: (30000, 5000)\n",
            "\n",
            "Report\n",
            "              precision    recall  f1-score   support\n",
            "\n",
            "           0       0.75      0.77      0.76      3000\n",
            "           1       0.77      0.75      0.76      3000\n",
            "\n",
            "    accuracy                           0.76      6000\n",
            "   macro avg       0.76      0.76      0.76      6000\n",
            "weighted avg       0.76      0.76      0.76      6000\n",
            "\n",
            "Training Scores: Accuracy=0.819\n",
            "Validation Scores: Accuracy=0.759\n"
          ]
        },
        {
          "output_type": "execute_result",
          "data": {
            "text/plain": [
              "[TfidfVectorizer(max_features=5000, ngram_range=(1, 2), norm='l1'),\n",
              " LinearSVC()]"
            ]
          },
          "metadata": {},
          "execution_count": 69
        }
      ]
    },
    {
      "cell_type": "code",
      "source": [],
      "metadata": {
        "colab": {
          "base_uri": "https://localhost:8080/",
          "height": 200
        },
        "id": "8U7hctOkhtd0",
        "outputId": "819137e3-a5c4-40fb-df79-ec40ee851412"
      },
      "execution_count": null,
      "outputs": [
        {
          "output_type": "error",
          "ename": "NameError",
          "evalue": "ignored",
          "traceback": [
            "\u001b[0;31m---------------------------------------------------------------------------\u001b[0m",
            "\u001b[0;31mNameError\u001b[0m                                 Traceback (most recent call last)",
            "\u001b[0;32m<ipython-input-63-3a2c0cb4c22b>\u001b[0m in \u001b[0;36m<cell line: 1>\u001b[0;34m()\u001b[0m\n\u001b[0;32m----> 1\u001b[0;31m \u001b[0my_test\u001b[0m\u001b[0;34m\u001b[0m\u001b[0;34m\u001b[0m\u001b[0m\n\u001b[0m\u001b[1;32m      2\u001b[0m \u001b[0;31m# y_train_pred = clf.predict(X_train)\u001b[0m\u001b[0;34m\u001b[0m\u001b[0;34m\u001b[0m\u001b[0m\n\u001b[1;32m      3\u001b[0m \u001b[0;31m# y_test_pred = clf.predict(X_test)\u001b[0m\u001b[0;34m\u001b[0m\u001b[0;34m\u001b[0m\u001b[0m\n",
            "\u001b[0;31mNameError\u001b[0m: name 'y_test' is not defined"
          ]
        }
      ]
    },
    {
      "cell_type": "code",
      "source": [
        "import pickle"
      ],
      "metadata": {
        "id": "pD8SbCx7NUmN"
      },
      "execution_count": null,
      "outputs": []
    },
    {
      "cell_type": "code",
      "source": [
        "pickle.dump(clf,open('clf.pkl','wb'))\n",
        "pickle.dump(tfidf,open('tfidf.pkl','wb'))"
      ],
      "metadata": {
        "id": "hv3ghKtCNUtw"
      },
      "execution_count": null,
      "outputs": []
    },
    {
      "cell_type": "code",
      "source": [
        "del clf\n",
        "del tfidf"
      ],
      "metadata": {
        "id": "4Fbp7lIaStC2"
      },
      "execution_count": null,
      "outputs": []
    },
    {
      "cell_type": "code",
      "source": [
        "clf=pickle.load(open(\"clf.pkl\",\"rb\"))\n",
        "tfidf=pickle.load(open(\"tfidf.pkl\",'rb'))"
      ],
      "metadata": {
        "id": "nIfCkX8uQxme"
      },
      "execution_count": null,
      "outputs": []
    },
    {
      "cell_type": "code",
      "source": [
        "#tfidf.vocabulary_"
      ],
      "metadata": {
        "id": "FjH0hswaQxpX"
      },
      "execution_count": null,
      "outputs": []
    },
    {
      "cell_type": "code",
      "source": [
        "clf.predict(tfidf.transform(t))"
      ],
      "metadata": {
        "colab": {
          "base_uri": "https://localhost:8080/"
        },
        "id": "Wj-_IIPdQxr1",
        "outputId": "74755853-d778-42fc-d54c-fc9b9627a96f"
      },
      "execution_count": null,
      "outputs": [
        {
          "output_type": "execute_result",
          "data": {
            "text/plain": [
              "array([1])"
            ]
          },
          "metadata": {},
          "execution_count": 25
        }
      ]
    },
    {
      "cell_type": "code",
      "source": [
        "#Real time Analysis\n",
        "consumer_key='i2G667hDxeLXM7f6ZX9rawHH2'\n",
        "consumer_secret='bGdHjmEQzAsmlSQLxkkSsTspj2a1ey6uYG1vzKaSRr3UoK7NkL'\n",
        "access_token='772366635122302977-dLcKG9OwVdTu2dt4AbuZcjEs35POYiX'\n",
        "access_token_secret='Gx0YEjrp75nfIbseFJdbyIuY89W8TchUhUTJOVvz08QBm'\n",
        "bearer_token='AAAAAAdIa17gV9LO9%2FghNyLNVZ7IGexY%3DIuEQNKGNHdDwg8QBKSCnMUJyvRCovuZc87HH0LluocVdbkVFDa'\n"
      ],
      "metadata": {
        "id": "xn8M523GW2UE"
      },
      "execution_count": null,
      "outputs": []
    },
    {
      "cell_type": "code",
      "source": [
        "pip install tweepy"
      ],
      "metadata": {
        "colab": {
          "base_uri": "https://localhost:8080/"
        },
        "id": "YK7r0Y5PQxuC",
        "outputId": "e1e448b0-4c81-4e6a-9d89-7ac9d8f0bffe"
      },
      "execution_count": null,
      "outputs": [
        {
          "output_type": "stream",
          "name": "stdout",
          "text": [
            "Looking in indexes: https://pypi.org/simple, https://us-python.pkg.dev/colab-wheels/public/simple/\n",
            "Requirement already satisfied: tweepy in /usr/local/lib/python3.10/dist-packages (4.13.0)\n",
            "Requirement already satisfied: oauthlib<4,>=3.2.0 in /usr/local/lib/python3.10/dist-packages (from tweepy) (3.2.2)\n",
            "Requirement already satisfied: requests<3,>=2.27.0 in /usr/local/lib/python3.10/dist-packages (from tweepy) (2.27.1)\n",
            "Requirement already satisfied: requests-oauthlib<2,>=1.2.0 in /usr/local/lib/python3.10/dist-packages (from tweepy) (1.3.1)\n",
            "Requirement already satisfied: urllib3<1.27,>=1.21.1 in /usr/local/lib/python3.10/dist-packages (from requests<3,>=2.27.0->tweepy) (1.26.15)\n",
            "Requirement already satisfied: certifi>=2017.4.17 in /usr/local/lib/python3.10/dist-packages (from requests<3,>=2.27.0->tweepy) (2022.12.7)\n",
            "Requirement already satisfied: charset-normalizer~=2.0.0 in /usr/local/lib/python3.10/dist-packages (from requests<3,>=2.27.0->tweepy) (2.0.12)\n",
            "Requirement already satisfied: idna<4,>=2.5 in /usr/local/lib/python3.10/dist-packages (from requests<3,>=2.27.0->tweepy) (3.4)\n"
          ]
        }
      ]
    },
    {
      "cell_type": "code",
      "source": [],
      "metadata": {
        "id": "w6VjDJeWOu5E"
      },
      "execution_count": null,
      "outputs": []
    },
    {
      "cell_type": "code",
      "source": [],
      "metadata": {
        "id": "7WxomIKS6kjI",
        "colab": {
          "base_uri": "https://localhost:8080/"
        },
        "outputId": "420eb382-27fd-4b14-d9cc-df2caf8cbf67"
      },
      "execution_count": null,
      "outputs": [
        {
          "output_type": "stream",
          "name": "stdout",
          "text": [
            "Looking in indexes: https://pypi.org/simple, https://us-python.pkg.dev/colab-wheels/public/simple/\n",
            "Collecting git+https://github.com/Indeevar1019/preprocess_Indeevar1019.git\n",
            "  Cloning https://github.com/Indeevar1019/preprocess_Indeevar1019.git to /tmp/pip-req-build-u1s_y6cz\n",
            "  Running command git clone --filter=blob:none --quiet https://github.com/Indeevar1019/preprocess_Indeevar1019.git /tmp/pip-req-build-u1s_y6cz\n",
            "  Resolved https://github.com/Indeevar1019/preprocess_Indeevar1019.git to commit 2ed4ea6ef527ca385eae9daf8500c3b8c636854c\n",
            "  Preparing metadata (setup.py) ... \u001b[?25l\u001b[?25hdone\n",
            "Building wheels for collected packages: preprocess-Indeevar10\n",
            "  Building wheel for preprocess-Indeevar10 (setup.py) ... \u001b[?25l\u001b[?25hdone\n",
            "  Created wheel for preprocess-Indeevar10: filename=preprocess_Indeevar10-0.0.4-py3-none-any.whl size=3869 sha256=d6d438f982f7efc256e2fd68ecb550f8f35ba90fa2948890fe92d6a16205a148\n",
            "  Stored in directory: /tmp/pip-ephem-wheel-cache-b0ugzrot/wheels/e8/75/5a/6a0ef2f522c7365b23fc26e7c0765d0c3f06b435d6db8902b6\n",
            "Successfully built preprocess-Indeevar10\n",
            "Installing collected packages: preprocess-Indeevar10\n",
            "Successfully installed preprocess-Indeevar10-0.0.4\n"
          ]
        }
      ]
    },
    {
      "cell_type": "code",
      "source": [
        "#pip install git+https://github.com/Indeevar1019/preprocess_Indeevar1019.git\n",
        "import preprocess_Indeevar1019 as pp"
      ],
      "metadata": {
        "id": "0JoM0b8e2oWV"
      },
      "execution_count": null,
      "outputs": []
    },
    {
      "cell_type": "code",
      "source": [
        "consumer_key = 'R7DGimRNkT11sbngA0MRqLmNE'\n",
        "consumer_secret = 'w5Axtw43feejwgmPIhqPhPOt1aHso1Guw1yuFwlmijtlh0vguK'\n",
        "access_token = '1279486577656295425-l3gaKqKuHQdKl44rPXUc0WYcc26wgq'\n",
        "access_token_secret = '80dGAdcx6LuoWM1mSt669V5NESP0EOuX1dK8Mianjqxi2'"
      ],
      "metadata": {
        "id": "E-QUhZmur5Sv"
      },
      "execution_count": null,
      "outputs": []
    },
    {
      "cell_type": "code",
      "source": [
        "import tweepy\n",
        "\n",
        "auth = tweepy.OAuthHandler(consumer_key, consumer_secret)\n",
        "auth.set_access_token(access_token, access_token_secret)\n",
        "\n",
        "api = tweepy.API(auth)\n",
        "auth.secure = True\n",
        "\n",
        "public_tweets = api.home_timeline()\n"
      ],
      "metadata": {
        "id": "kgz6Fxqjr6_n"
      },
      "execution_count": null,
      "outputs": []
    },
    {
      "cell_type": "code",
      "source": [
        "type(public_tweets)"
      ],
      "metadata": {
        "colab": {
          "base_uri": "https://localhost:8080/"
        },
        "id": "m_4MCMptsumI",
        "outputId": "64d52020-254d-4cec-8fb5-5e8072bdabca"
      },
      "execution_count": null,
      "outputs": [
        {
          "output_type": "execute_result",
          "data": {
            "text/plain": [
              "tweepy.models.ResultSet"
            ]
          },
          "metadata": {},
          "execution_count": 29
        }
      ]
    },
    {
      "cell_type": "code",
      "source": [
        "new_tweet=public_tweets[0].text"
      ],
      "metadata": {
        "id": "wv2Sw5Maswdk"
      },
      "execution_count": null,
      "outputs": []
    },
    {
      "cell_type": "code",
      "source": [
        "for tweet in public_tweets:\n",
        "  print(tweet.text)"
      ],
      "metadata": {
        "id": "eb-tNic24GGI",
        "colab": {
          "base_uri": "https://localhost:8080/"
        },
        "outputId": "ef264682-93a2-4929-da8f-f83d4ab3e6dd"
      },
      "execution_count": null,
      "outputs": [
        {
          "output_type": "stream",
          "name": "stdout",
          "text": [
            "Former Vice President #MikePence will officially launch his widely expected campaign for the Republican nomination… https://t.co/D15fAkqUNi\n",
            "\"That '70s Show\" star #DannyMasterson was led out in handcuffs from a LA courtroom and could get 30 years to life i… https://t.co/oHUI49P0DE\n",
            "#BusinessOfSports | In this two-part episode of Business of Sports we spotlight the partnerships and efforts undert… https://t.co/UbjKBKvxwi\n",
            "Two years after her film \"Music\" courted controversy for misrepresenting people with #autism, singer-songwriter… https://t.co/p2d8XbFnHr\n",
            "#JustIn | J.P.Morgan hikes India's FY24 GDP forecast to 5.5%\n",
            "Catch the day's latest news and updates 📷… https://t.co/RUjNl7Ib23\n",
            "#ElonMusk has retaken the title of world’s wealthiest person.  The #Tesla Inc. chief executive officer surpassed lu… https://t.co/USMvUhVYz4\n",
            "RT @ASEANRussia: We congratulate our Indonesian partners and friends on commemorating the Birthday of Pancasila 🇮🇩! https://t.co/Vb67vriFgH\n",
            "RT @RusEmbUSA: 💬Anatoly Antonov: Instead of calling the Zelensky regime to account, Washington is demonstratively showing indifference to t…\n",
            "RT @RusMission_EU: #Kosovo\n",
            "The developments we are witnessing now are a direct consequence of the unscrupulous fulfilment by the #EU mediat…\n",
            "RT @RussiaUN: #Nebenzia at SC media stakeout on #Sudan: First we need to stabilize, and then think how we can change the mandate and how th…\n",
            "India and the European Union will hold a brainstorming session in Shillong on Thursday and Friday to promote connec… https://t.co/Rw4rPJtntq\n",
            "Within a year of raising high-cost debt from #GoldmanSachs, India’s largest online pharmacy platform #PharmEasy has… https://t.co/NC0gF6Em8B\n",
            "Here's a slew of stocks that will be in focus today for various reasons-\n",
            "\n",
            "https://t.co/w2OK8RHhrP\n",
            "#Apple has won a new laurel in India - operating the country's largest electronics retail store by sales.\n",
            "\n",
            "https://t.co/UD9KT8PxZw\n",
            "The Jammu and Kashmir police and army claim to have arrested three alleged infiltrators on Wednesday along the Line… https://t.co/30sJQKYY05\n",
            "A 20-year-old girl from Indore has bagged Apple’s #WWDC23SwiftStudentChallenge prize for creating an original app b… https://t.co/bKNdk9iYyr\n",
            "#Nvidia Corp. Chief Executive Officer Jensen Huang is heading to #China to meet with tech executives in the world’s… https://t.co/pnJRi7lfEW\n",
            "The Board of Trustees of Sri Ram Janmabhoomi Tirath Kshetra Trust will invite Prime Minister #NarendraModi for the… https://t.co/OSCH4dCnTR\n",
            "The National Investigation Agency (#NIA) on Wednesday conducted raids at three places in Budgam and Srinagar distri… https://t.co/41odYceCq6\n",
            "The Centre is working on a three-pronged approach to bring the warring #Meitei and #Kuki communities into a narrow… https://t.co/LHZ7GIakJI\n"
          ]
        }
      ]
    },
    {
      "cell_type": "code",
      "source": [
        "# \n",
        "l=[new_tweet]\n",
        "print(l)\n",
        "clf.predict(tfidf.transform(l))\n"
      ],
      "metadata": {
        "id": "kkIxEc1mvGBR",
        "colab": {
          "base_uri": "https://localhost:8080/"
        },
        "outputId": "f9da7aba-dd05-4ddd-cbdc-df8fcff4daec"
      },
      "execution_count": null,
      "outputs": [
        {
          "output_type": "stream",
          "name": "stdout",
          "text": [
            "['Former Vice President #MikePence will officially launch his widely expected campaign for the Republican nomination… https://t.co/D15fAkqUNi']\n"
          ]
        },
        {
          "output_type": "execute_result",
          "data": {
            "text/plain": [
              "array([1])"
            ]
          },
          "metadata": {},
          "execution_count": 33
        }
      ]
    },
    {
      "cell_type": "code",
      "source": [
        "from google.colab import drive\n",
        "drive.mount('/content/drive')\n"
      ],
      "metadata": {
        "id": "1o2lmX7--_JA",
        "colab": {
          "base_uri": "https://localhost:8080/"
        },
        "outputId": "fecb07aa-3d29-41de-f7d0-c89baa48c305"
      },
      "execution_count": null,
      "outputs": [
        {
          "output_type": "stream",
          "name": "stdout",
          "text": [
            "Mounted at /content/drive\n"
          ]
        }
      ]
    },
    {
      "cell_type": "code",
      "source": [
        "file_path='drive/MyDrive/glove.6B.100d.txt'\n"
      ],
      "metadata": {
        "id": "LPaq8vxtvDMM"
      },
      "execution_count": null,
      "outputs": []
    },
    {
      "cell_type": "code",
      "source": [
        "data=pd.read_csv('drive/MyDrive/text_to_emotion.csv')"
      ],
      "metadata": {
        "id": "SX81JVsGqCvj"
      },
      "execution_count": null,
      "outputs": []
    },
    {
      "cell_type": "code",
      "source": [
        "#Data Preparation\n",
        "from numpy import array\n",
        "from sklearn.model_selection import train_test_split\n",
        "from sklearn.linear_model import LogisticRegression\n",
        "from sklearn.metrics import classification_report,confusion_matrix\n",
        "\n"
      ],
      "metadata": {
        "id": "dnLdt7VCq3Mf"
      },
      "execution_count": null,
      "outputs": []
    },
    {
      "cell_type": "code",
      "source": [
        "data['emotion'].value_counts()"
      ],
      "metadata": {
        "id": "eGh2yvwbuRcr",
        "colab": {
          "base_uri": "https://localhost:8080/"
        },
        "outputId": "ffd805f1-e47e-444f-d5ba-3624c276e218"
      },
      "execution_count": null,
      "outputs": [
        {
          "output_type": "execute_result",
          "data": {
            "text/plain": [
              "ANGER       5000\n",
              "FEAR        5000\n",
              "JOY         5000\n",
              "LOVE        5000\n",
              "SADNESS     5000\n",
              "SURPRISE    5000\n",
              "Name: emotion, dtype: int64"
            ]
          },
          "metadata": {},
          "execution_count": 38
        }
      ]
    },
    {
      "cell_type": "code",
      "source": [
        "%%time\n",
        "data['text'] = data['text'].apply(lambda x: str(x).lower())\n",
        "data['text'] = data['text'].apply(lambda x: pp.cont_exp(x))\n",
        "data['text'] = data['text'].apply(lambda x: pp.remove_special_chars(x))\n",
        "data['text'] = data['text'].apply(lambda x: pp.remove_accented_chars(x))\n",
        "# df['text'] = df['text'].apply(lambda x: ps.make_base(x))\n",
        "# df['text'] = df['text'].apply(lambda x: ps.spelling_correction(x).raw_sentences[0])\n"
      ],
      "metadata": {
        "id": "9BOoybjTud_s",
        "colab": {
          "base_uri": "https://localhost:8080/"
        },
        "outputId": "aa08aade-2e0b-4eba-87d5-8110ee3bf883"
      },
      "execution_count": null,
      "outputs": [
        {
          "output_type": "stream",
          "name": "stdout",
          "text": [
            "CPU times: user 1.04 s, sys: 401 µs, total: 1.04 s\n",
            "Wall time: 1.14 s\n"
          ]
        }
      ]
    },
    {
      "cell_type": "code",
      "source": [
        "data['text']"
      ],
      "metadata": {
        "id": "OIRe3tzCv0Ze",
        "colab": {
          "base_uri": "https://localhost:8080/"
        },
        "outputId": "3efb3311-595e-4c8a-dfbe-2876a9670453"
      },
      "execution_count": null,
      "outputs": [
        {
          "output_type": "execute_result",
          "data": {
            "text/plain": [
              "0                                              i feel cold\n",
              "1                    i feel the cold i can say he sends it\n",
              "2        i remember feeling like my blood had run cold ...\n",
              "3        i hate too is stepping outside in the cold and...\n",
              "4        i do not think i am anti social i just do not ...\n",
              "                               ...                        \n",
              "29995    i feel like i am just here watching my body wo...\n",
              "29996    i am not a person who first created the idea e...\n",
              "29997    i feel a little surprised as if i don t know w...\n",
              "29998    i feel like people don t tell me things then a...\n",
              "29999    i get that old feeling the one where i am not ...\n",
              "Name: text, Length: 30000, dtype: object"
            ]
          },
          "metadata": {},
          "execution_count": 40
        }
      ]
    },
    {
      "cell_type": "code",
      "source": [
        "%%time\n",
        "#Loading of Glove Vectors\n",
        "glove_vectors={}\n",
        "file=open(file_path,encoding='utf-8')\n",
        "for line in file:\n",
        "  values=line.split()\n",
        "  word=values[0]\n",
        "  vectors=np.asarray(values[1:])\n",
        "  glove_vectors[word]=vectors\n",
        "file.close()\n",
        "\n"
      ],
      "metadata": {
        "colab": {
          "base_uri": "https://localhost:8080/"
        },
        "id": "1XfDfWdvjc-t",
        "outputId": "0c2a45f0-9011-48fa-a1a0-cee81859d732"
      },
      "execution_count": null,
      "outputs": [
        {
          "output_type": "stream",
          "name": "stdout",
          "text": [
            "CPU times: user 12.8 s, sys: 1.48 s, total: 14.3 s\n",
            "Wall time: 15.9 s\n"
          ]
        }
      ]
    },
    {
      "cell_type": "code",
      "source": [
        "len(glove_vectors)"
      ],
      "metadata": {
        "colab": {
          "base_uri": "https://localhost:8080/"
        },
        "id": "xCuS7PBeJzfm",
        "outputId": "24c2df08-3f56-49e2-b34f-45eba77267da"
      },
      "execution_count": null,
      "outputs": [
        {
          "output_type": "execute_result",
          "data": {
            "text/plain": [
              "400000"
            ]
          },
          "metadata": {},
          "execution_count": 42
        }
      ]
    },
    {
      "cell_type": "code",
      "source": [
        "sample_text=data['text'][0]"
      ],
      "metadata": {
        "id": "6zqvv3hbMi3k"
      },
      "execution_count": null,
      "outputs": []
    },
    {
      "cell_type": "code",
      "source": [
        "#Text to GLove Vectors\n",
        "vector_shape=100\n",
        "def get_vectors(x):\n",
        "    arr = np.zeros(vector_shape)\n",
        "    text = str(x).split()\n",
        "    for t in text:\n",
        "        try:\n",
        "            vec = glove_vectors.get(t).astype(float)\n",
        "            arr = arr + vec\n",
        "        except:\n",
        "            pass\n",
        "    arr = arr.reshape(1, -1)[0]\n",
        "    return arr/len(text)"
      ],
      "metadata": {
        "id": "wbK7-ZlmKmdx"
      },
      "execution_count": null,
      "outputs": []
    },
    {
      "cell_type": "code",
      "source": [
        "vector=get_vectors(sample_text)\n",
        "vector"
      ],
      "metadata": {
        "colab": {
          "base_uri": "https://localhost:8080/"
        },
        "id": "T85KjcbUKm5F",
        "outputId": "e9d0d4d3-c8b2-48a9-f496-3db24cacb9c1"
      },
      "execution_count": null,
      "outputs": [
        {
          "output_type": "execute_result",
          "data": {
            "text/plain": [
              "array([-0.267008  ,  0.66335667,  0.73366   , -0.22969   , -0.84137333,\n",
              "        0.28653667,  0.005435  ,  0.13241333, -0.19898667, -0.34137333,\n",
              "        0.07526667, -0.112268  ,  0.34247333,  0.09995467,  0.12304333,\n",
              "       -0.21340833, -0.289818  ,  0.05148667, -0.63726667,  0.13804333,\n",
              "        0.22524733,  0.87720333, -0.08132627, -0.34913033,  0.09410667,\n",
              "        0.66297   , -0.274576  , -0.52326333,  0.67806   , -0.25643667,\n",
              "        0.20968667,  0.67789667,  0.11778   , -0.026936  ,  0.13002667,\n",
              "        0.335743  , -0.02714667,  0.14828667,  0.61485667, -0.46669333,\n",
              "       -0.39179   , -0.31825   ,  0.19713667, -0.75069333, -0.16751333,\n",
              "       -0.16864333,  0.294349  , -0.07035533,  0.34511   , -1.17788667,\n",
              "        0.170615  , -0.044745  ,  0.15406   ,  0.86005   , -0.07263333,\n",
              "       -2.42486667,  0.52434667,  0.36412333,  1.22936667,  0.40280967,\n",
              "        0.15221   ,  1.19223333, -0.90648333, -0.20536323,  0.70086333,\n",
              "       -0.00429667,  0.76778   ,  0.0281944 , -0.43150333, -0.4193    ,\n",
              "        0.29624467, -0.52677   ,  0.18674   ,  0.09643   , -0.00630333,\n",
              "        0.350989  , -0.02794167, -0.04233933, -0.160559  ,  0.09264   ,\n",
              "        0.27958667,  0.022696  , -0.81290667,  0.5006    , -1.59933333,\n",
              "       -0.08786   , -0.28276333, -0.10112867, -0.71545333, -0.37280333,\n",
              "        0.064645  , -0.24659333,  0.18408333,  0.0456    , -0.37940333,\n",
              "        0.062889  , -0.15684933, -0.18412   ,  0.02230033,  0.5948    ])"
            ]
          },
          "metadata": {},
          "execution_count": 45
        }
      ]
    },
    {
      "cell_type": "code",
      "source": [
        "%%time\n",
        "data['vec']=data['text'].apply(lambda x: get_vectors(x))"
      ],
      "metadata": {
        "colab": {
          "base_uri": "https://localhost:8080/"
        },
        "id": "SQoc41-6Mh9i",
        "outputId": "bb4d6999-9014-4eb6-9c5d-7684ab334d6d"
      },
      "execution_count": null,
      "outputs": [
        {
          "output_type": "stream",
          "name": "stdout",
          "text": [
            "CPU times: user 26.5 s, sys: 68 ms, total: 26.6 s\n",
            "Wall time: 26.8 s\n"
          ]
        }
      ]
    },
    {
      "cell_type": "code",
      "source": [
        "data"
      ],
      "metadata": {
        "colab": {
          "base_uri": "https://localhost:8080/",
          "height": 423
        },
        "id": "wF4eJXT7NQ9E",
        "outputId": "d09a2e64-5d63-4b25-d9c9-d3584fcb0014"
      },
      "execution_count": null,
      "outputs": [
        {
          "output_type": "execute_result",
          "data": {
            "text/plain": [
              "                                                    text   emotion  \\\n",
              "0                                            i feel cold     ANGER   \n",
              "1                  i feel the cold i can say he sends it     ANGER   \n",
              "2      i remember feeling like my blood had run cold ...     ANGER   \n",
              "3      i hate too is stepping outside in the cold and...     ANGER   \n",
              "4      i do not think i am anti social i just do not ...     ANGER   \n",
              "...                                                  ...       ...   \n",
              "29995  i feel like i am just here watching my body wo...  SURPRISE   \n",
              "29996  i am not a person who first created the idea e...  SURPRISE   \n",
              "29997  i feel a little surprised as if i don t know w...  SURPRISE   \n",
              "29998  i feel like people don t tell me things then a...  SURPRISE   \n",
              "29999  i get that old feeling the one where i am not ...  SURPRISE   \n",
              "\n",
              "                                                     vec  \n",
              "0      [-0.26700799999999997, 0.6633566666666666, 0.7...  \n",
              "1      [-0.22076089999999998, 0.4482507, 0.661141, -0...  \n",
              "2      [0.07080416111111111, 0.3336016666666666, 0.40...  \n",
              "3      [-0.1415063259259259, 0.20625797777777777, 0.3...  \n",
              "4      [-0.10033871904761904, 0.31728433333333333, 0....  \n",
              "...                                                  ...  \n",
              "29995  [-0.12335857142857144, 0.28631307142857143, 0....  \n",
              "29996  [-0.03749547368421053, 0.14457099999999998, 0....  \n",
              "29997  [-0.0044482176470588145, 0.27805682352941175, ...  \n",
              "29998  [-0.07938582307692309, 0.25052637692307694, 0....  \n",
              "29999  [0.011324695652173911, 0.39018995652173916, 0....  \n",
              "\n",
              "[30000 rows x 3 columns]"
            ],
            "text/html": [
              "\n",
              "  <div id=\"df-14e08bef-fa86-4d1b-ad22-019a82918397\">\n",
              "    <div class=\"colab-df-container\">\n",
              "      <div>\n",
              "<style scoped>\n",
              "    .dataframe tbody tr th:only-of-type {\n",
              "        vertical-align: middle;\n",
              "    }\n",
              "\n",
              "    .dataframe tbody tr th {\n",
              "        vertical-align: top;\n",
              "    }\n",
              "\n",
              "    .dataframe thead th {\n",
              "        text-align: right;\n",
              "    }\n",
              "</style>\n",
              "<table border=\"1\" class=\"dataframe\">\n",
              "  <thead>\n",
              "    <tr style=\"text-align: right;\">\n",
              "      <th></th>\n",
              "      <th>text</th>\n",
              "      <th>emotion</th>\n",
              "      <th>vec</th>\n",
              "    </tr>\n",
              "  </thead>\n",
              "  <tbody>\n",
              "    <tr>\n",
              "      <th>0</th>\n",
              "      <td>i feel cold</td>\n",
              "      <td>ANGER</td>\n",
              "      <td>[-0.26700799999999997, 0.6633566666666666, 0.7...</td>\n",
              "    </tr>\n",
              "    <tr>\n",
              "      <th>1</th>\n",
              "      <td>i feel the cold i can say he sends it</td>\n",
              "      <td>ANGER</td>\n",
              "      <td>[-0.22076089999999998, 0.4482507, 0.661141, -0...</td>\n",
              "    </tr>\n",
              "    <tr>\n",
              "      <th>2</th>\n",
              "      <td>i remember feeling like my blood had run cold ...</td>\n",
              "      <td>ANGER</td>\n",
              "      <td>[0.07080416111111111, 0.3336016666666666, 0.40...</td>\n",
              "    </tr>\n",
              "    <tr>\n",
              "      <th>3</th>\n",
              "      <td>i hate too is stepping outside in the cold and...</td>\n",
              "      <td>ANGER</td>\n",
              "      <td>[-0.1415063259259259, 0.20625797777777777, 0.3...</td>\n",
              "    </tr>\n",
              "    <tr>\n",
              "      <th>4</th>\n",
              "      <td>i do not think i am anti social i just do not ...</td>\n",
              "      <td>ANGER</td>\n",
              "      <td>[-0.10033871904761904, 0.31728433333333333, 0....</td>\n",
              "    </tr>\n",
              "    <tr>\n",
              "      <th>...</th>\n",
              "      <td>...</td>\n",
              "      <td>...</td>\n",
              "      <td>...</td>\n",
              "    </tr>\n",
              "    <tr>\n",
              "      <th>29995</th>\n",
              "      <td>i feel like i am just here watching my body wo...</td>\n",
              "      <td>SURPRISE</td>\n",
              "      <td>[-0.12335857142857144, 0.28631307142857143, 0....</td>\n",
              "    </tr>\n",
              "    <tr>\n",
              "      <th>29996</th>\n",
              "      <td>i am not a person who first created the idea e...</td>\n",
              "      <td>SURPRISE</td>\n",
              "      <td>[-0.03749547368421053, 0.14457099999999998, 0....</td>\n",
              "    </tr>\n",
              "    <tr>\n",
              "      <th>29997</th>\n",
              "      <td>i feel a little surprised as if i don t know w...</td>\n",
              "      <td>SURPRISE</td>\n",
              "      <td>[-0.0044482176470588145, 0.27805682352941175, ...</td>\n",
              "    </tr>\n",
              "    <tr>\n",
              "      <th>29998</th>\n",
              "      <td>i feel like people don t tell me things then a...</td>\n",
              "      <td>SURPRISE</td>\n",
              "      <td>[-0.07938582307692309, 0.25052637692307694, 0....</td>\n",
              "    </tr>\n",
              "    <tr>\n",
              "      <th>29999</th>\n",
              "      <td>i get that old feeling the one where i am not ...</td>\n",
              "      <td>SURPRISE</td>\n",
              "      <td>[0.011324695652173911, 0.39018995652173916, 0....</td>\n",
              "    </tr>\n",
              "  </tbody>\n",
              "</table>\n",
              "<p>30000 rows × 3 columns</p>\n",
              "</div>\n",
              "      <button class=\"colab-df-convert\" onclick=\"convertToInteractive('df-14e08bef-fa86-4d1b-ad22-019a82918397')\"\n",
              "              title=\"Convert this dataframe to an interactive table.\"\n",
              "              style=\"display:none;\">\n",
              "        \n",
              "  <svg xmlns=\"http://www.w3.org/2000/svg\" height=\"24px\"viewBox=\"0 0 24 24\"\n",
              "       width=\"24px\">\n",
              "    <path d=\"M0 0h24v24H0V0z\" fill=\"none\"/>\n",
              "    <path d=\"M18.56 5.44l.94 2.06.94-2.06 2.06-.94-2.06-.94-.94-2.06-.94 2.06-2.06.94zm-11 1L8.5 8.5l.94-2.06 2.06-.94-2.06-.94L8.5 2.5l-.94 2.06-2.06.94zm10 10l.94 2.06.94-2.06 2.06-.94-2.06-.94-.94-2.06-.94 2.06-2.06.94z\"/><path d=\"M17.41 7.96l-1.37-1.37c-.4-.4-.92-.59-1.43-.59-.52 0-1.04.2-1.43.59L10.3 9.45l-7.72 7.72c-.78.78-.78 2.05 0 2.83L4 21.41c.39.39.9.59 1.41.59.51 0 1.02-.2 1.41-.59l7.78-7.78 2.81-2.81c.8-.78.8-2.07 0-2.86zM5.41 20L4 18.59l7.72-7.72 1.47 1.35L5.41 20z\"/>\n",
              "  </svg>\n",
              "      </button>\n",
              "      \n",
              "  <style>\n",
              "    .colab-df-container {\n",
              "      display:flex;\n",
              "      flex-wrap:wrap;\n",
              "      gap: 12px;\n",
              "    }\n",
              "\n",
              "    .colab-df-convert {\n",
              "      background-color: #E8F0FE;\n",
              "      border: none;\n",
              "      border-radius: 50%;\n",
              "      cursor: pointer;\n",
              "      display: none;\n",
              "      fill: #1967D2;\n",
              "      height: 32px;\n",
              "      padding: 0 0 0 0;\n",
              "      width: 32px;\n",
              "    }\n",
              "\n",
              "    .colab-df-convert:hover {\n",
              "      background-color: #E2EBFA;\n",
              "      box-shadow: 0px 1px 2px rgba(60, 64, 67, 0.3), 0px 1px 3px 1px rgba(60, 64, 67, 0.15);\n",
              "      fill: #174EA6;\n",
              "    }\n",
              "\n",
              "    [theme=dark] .colab-df-convert {\n",
              "      background-color: #3B4455;\n",
              "      fill: #D2E3FC;\n",
              "    }\n",
              "\n",
              "    [theme=dark] .colab-df-convert:hover {\n",
              "      background-color: #434B5C;\n",
              "      box-shadow: 0px 1px 3px 1px rgba(0, 0, 0, 0.15);\n",
              "      filter: drop-shadow(0px 1px 2px rgba(0, 0, 0, 0.3));\n",
              "      fill: #FFFFFF;\n",
              "    }\n",
              "  </style>\n",
              "\n",
              "      <script>\n",
              "        const buttonEl =\n",
              "          document.querySelector('#df-14e08bef-fa86-4d1b-ad22-019a82918397 button.colab-df-convert');\n",
              "        buttonEl.style.display =\n",
              "          google.colab.kernel.accessAllowed ? 'block' : 'none';\n",
              "\n",
              "        async function convertToInteractive(key) {\n",
              "          const element = document.querySelector('#df-14e08bef-fa86-4d1b-ad22-019a82918397');\n",
              "          const dataTable =\n",
              "            await google.colab.kernel.invokeFunction('convertToInteractive',\n",
              "                                                     [key], {});\n",
              "          if (!dataTable) return;\n",
              "\n",
              "          const docLinkHtml = 'Like what you see? Visit the ' +\n",
              "            '<a target=\"_blank\" href=https://colab.research.google.com/notebooks/data_table.ipynb>data table notebook</a>'\n",
              "            + ' to learn more about interactive tables.';\n",
              "          element.innerHTML = '';\n",
              "          dataTable['output_type'] = 'display_data';\n",
              "          await google.colab.output.renderOutput(dataTable, element);\n",
              "          const docLink = document.createElement('div');\n",
              "          docLink.innerHTML = docLinkHtml;\n",
              "          element.appendChild(docLink);\n",
              "        }\n",
              "      </script>\n",
              "    </div>\n",
              "  </div>\n",
              "  "
            ]
          },
          "metadata": {},
          "execution_count": 47
        }
      ]
    },
    {
      "cell_type": "code",
      "source": [
        "X_t1=data['vec']\n",
        "y_t1=data['emotion']"
      ],
      "metadata": {
        "id": "0ZQaHJl7OZZQ"
      },
      "execution_count": null,
      "outputs": []
    },
    {
      "cell_type": "code",
      "source": [
        "X_t1=np.concatenate(X_t1,axis=0).reshape(-1,vector_shape)\n"
      ],
      "metadata": {
        "id": "uMhAMwZvOqUR"
      },
      "execution_count": null,
      "outputs": []
    },
    {
      "cell_type": "code",
      "source": [
        "X_train_e,X_test_e,y_train_e,y_test_e=train_test_split(X_t1,y_t1,test_size=0.2,random_state=0,stratify=y_t1)"
      ],
      "metadata": {
        "id": "9k7BKmiPOqWZ"
      },
      "execution_count": null,
      "outputs": []
    },
    {
      "cell_type": "code",
      "source": [
        "clf_e=LogisticRegression(solver='liblinear',multi_class='auto')"
      ],
      "metadata": {
        "id": "BzbJ7mz6OqYp"
      },
      "execution_count": null,
      "outputs": []
    },
    {
      "cell_type": "code",
      "source": [
        "clf_e.fit(X_train_e,y_train_e)"
      ],
      "metadata": {
        "colab": {
          "base_uri": "https://localhost:8080/",
          "height": 74
        },
        "id": "NuyUfTWQOqby",
        "outputId": "e277e199-ef1c-4baa-8030-ef5064a53c19"
      },
      "execution_count": null,
      "outputs": [
        {
          "output_type": "execute_result",
          "data": {
            "text/plain": [
              "LogisticRegression(solver='liblinear')"
            ],
            "text/html": [
              "<style>#sk-container-id-1 {color: black;background-color: white;}#sk-container-id-1 pre{padding: 0;}#sk-container-id-1 div.sk-toggleable {background-color: white;}#sk-container-id-1 label.sk-toggleable__label {cursor: pointer;display: block;width: 100%;margin-bottom: 0;padding: 0.3em;box-sizing: border-box;text-align: center;}#sk-container-id-1 label.sk-toggleable__label-arrow:before {content: \"▸\";float: left;margin-right: 0.25em;color: #696969;}#sk-container-id-1 label.sk-toggleable__label-arrow:hover:before {color: black;}#sk-container-id-1 div.sk-estimator:hover label.sk-toggleable__label-arrow:before {color: black;}#sk-container-id-1 div.sk-toggleable__content {max-height: 0;max-width: 0;overflow: hidden;text-align: left;background-color: #f0f8ff;}#sk-container-id-1 div.sk-toggleable__content pre {margin: 0.2em;color: black;border-radius: 0.25em;background-color: #f0f8ff;}#sk-container-id-1 input.sk-toggleable__control:checked~div.sk-toggleable__content {max-height: 200px;max-width: 100%;overflow: auto;}#sk-container-id-1 input.sk-toggleable__control:checked~label.sk-toggleable__label-arrow:before {content: \"▾\";}#sk-container-id-1 div.sk-estimator input.sk-toggleable__control:checked~label.sk-toggleable__label {background-color: #d4ebff;}#sk-container-id-1 div.sk-label input.sk-toggleable__control:checked~label.sk-toggleable__label {background-color: #d4ebff;}#sk-container-id-1 input.sk-hidden--visually {border: 0;clip: rect(1px 1px 1px 1px);clip: rect(1px, 1px, 1px, 1px);height: 1px;margin: -1px;overflow: hidden;padding: 0;position: absolute;width: 1px;}#sk-container-id-1 div.sk-estimator {font-family: monospace;background-color: #f0f8ff;border: 1px dotted black;border-radius: 0.25em;box-sizing: border-box;margin-bottom: 0.5em;}#sk-container-id-1 div.sk-estimator:hover {background-color: #d4ebff;}#sk-container-id-1 div.sk-parallel-item::after {content: \"\";width: 100%;border-bottom: 1px solid gray;flex-grow: 1;}#sk-container-id-1 div.sk-label:hover label.sk-toggleable__label {background-color: #d4ebff;}#sk-container-id-1 div.sk-serial::before {content: \"\";position: absolute;border-left: 1px solid gray;box-sizing: border-box;top: 0;bottom: 0;left: 50%;z-index: 0;}#sk-container-id-1 div.sk-serial {display: flex;flex-direction: column;align-items: center;background-color: white;padding-right: 0.2em;padding-left: 0.2em;position: relative;}#sk-container-id-1 div.sk-item {position: relative;z-index: 1;}#sk-container-id-1 div.sk-parallel {display: flex;align-items: stretch;justify-content: center;background-color: white;position: relative;}#sk-container-id-1 div.sk-item::before, #sk-container-id-1 div.sk-parallel-item::before {content: \"\";position: absolute;border-left: 1px solid gray;box-sizing: border-box;top: 0;bottom: 0;left: 50%;z-index: -1;}#sk-container-id-1 div.sk-parallel-item {display: flex;flex-direction: column;z-index: 1;position: relative;background-color: white;}#sk-container-id-1 div.sk-parallel-item:first-child::after {align-self: flex-end;width: 50%;}#sk-container-id-1 div.sk-parallel-item:last-child::after {align-self: flex-start;width: 50%;}#sk-container-id-1 div.sk-parallel-item:only-child::after {width: 0;}#sk-container-id-1 div.sk-dashed-wrapped {border: 1px dashed gray;margin: 0 0.4em 0.5em 0.4em;box-sizing: border-box;padding-bottom: 0.4em;background-color: white;}#sk-container-id-1 div.sk-label label {font-family: monospace;font-weight: bold;display: inline-block;line-height: 1.2em;}#sk-container-id-1 div.sk-label-container {text-align: center;}#sk-container-id-1 div.sk-container {/* jupyter's `normalize.less` sets `[hidden] { display: none; }` but bootstrap.min.css set `[hidden] { display: none !important; }` so we also need the `!important` here to be able to override the default hidden behavior on the sphinx rendered scikit-learn.org. See: https://github.com/scikit-learn/scikit-learn/issues/21755 */display: inline-block !important;position: relative;}#sk-container-id-1 div.sk-text-repr-fallback {display: none;}</style><div id=\"sk-container-id-1\" class=\"sk-top-container\"><div class=\"sk-text-repr-fallback\"><pre>LogisticRegression(solver=&#x27;liblinear&#x27;)</pre><b>In a Jupyter environment, please rerun this cell to show the HTML representation or trust the notebook. <br />On GitHub, the HTML representation is unable to render, please try loading this page with nbviewer.org.</b></div><div class=\"sk-container\" hidden><div class=\"sk-item\"><div class=\"sk-estimator sk-toggleable\"><input class=\"sk-toggleable__control sk-hidden--visually\" id=\"sk-estimator-id-1\" type=\"checkbox\" checked><label for=\"sk-estimator-id-1\" class=\"sk-toggleable__label sk-toggleable__label-arrow\">LogisticRegression</label><div class=\"sk-toggleable__content\"><pre>LogisticRegression(solver=&#x27;liblinear&#x27;)</pre></div></div></div></div></div>"
            ]
          },
          "metadata": {},
          "execution_count": 52
        }
      ]
    },
    {
      "cell_type": "code",
      "source": [
        "y_pred_e=clf_e.predict(X_test_e)"
      ],
      "metadata": {
        "id": "wjCLwvB4Oqd0"
      },
      "execution_count": null,
      "outputs": []
    },
    {
      "cell_type": "code",
      "source": [
        "print(classification_report(y_test_e,y_pred_e))"
      ],
      "metadata": {
        "colab": {
          "base_uri": "https://localhost:8080/"
        },
        "id": "HHB7nyD-OqkU",
        "outputId": "bdd3032c-faae-4ed5-dc87-7db0996f0bd1"
      },
      "execution_count": null,
      "outputs": [
        {
          "output_type": "stream",
          "name": "stdout",
          "text": [
            "              precision    recall  f1-score   support\n",
            "\n",
            "       ANGER       0.63      0.62      0.62      1000\n",
            "        FEAR       0.72      0.70      0.71      1000\n",
            "         JOY       0.74      0.73      0.74      1000\n",
            "        LOVE       0.81      0.83      0.82      1000\n",
            "     SADNESS       0.75      0.73      0.74      1000\n",
            "    SURPRISE       0.76      0.80      0.78      1000\n",
            "\n",
            "    accuracy                           0.74      6000\n",
            "   macro avg       0.74      0.74      0.74      6000\n",
            "weighted avg       0.74      0.74      0.74      6000\n",
            "\n"
          ]
        }
      ]
    },
    {
      "cell_type": "code",
      "source": [
        "#Trying SVM()\n",
        "clf_s=LinearSVC()\n",
        "clf_s.fit(X_train_e,y_train_e)\n",
        "y_pred_s=clf_s.predict(X_test_e)"
      ],
      "metadata": {
        "id": "vdIZ3oweQQCv"
      },
      "execution_count": null,
      "outputs": []
    },
    {
      "cell_type": "code",
      "source": [
        "print(classification_report(y_test_e,y_pred_s))"
      ],
      "metadata": {
        "colab": {
          "base_uri": "https://localhost:8080/"
        },
        "id": "tMPjkdkPQQ_0",
        "outputId": "7b8310b7-46bc-4517-fefc-5a7710a1c661"
      },
      "execution_count": null,
      "outputs": [
        {
          "output_type": "stream",
          "name": "stdout",
          "text": [
            "              precision    recall  f1-score   support\n",
            "\n",
            "       ANGER       0.63      0.59      0.61      1000\n",
            "        FEAR       0.74      0.69      0.72      1000\n",
            "         JOY       0.73      0.75      0.74      1000\n",
            "        LOVE       0.81      0.84      0.82      1000\n",
            "     SADNESS       0.75      0.73      0.74      1000\n",
            "    SURPRISE       0.76      0.81      0.78      1000\n",
            "\n",
            "    accuracy                           0.74      6000\n",
            "   macro avg       0.73      0.74      0.73      6000\n",
            "weighted avg       0.73      0.74      0.73      6000\n",
            "\n"
          ]
        }
      ]
    },
    {
      "cell_type": "code",
      "source": [
        "pickle.dump(clf_e,open('model_emotion.pkl','wb'))"
      ],
      "metadata": {
        "id": "mWse52VARQG8"
      },
      "execution_count": null,
      "outputs": []
    },
    {
      "cell_type": "code",
      "source": [
        "model = pickle.load(open('model_emotion.pkl', 'rb'))\n",
        "def get_pred(x):\n",
        "    x = str(x).lower()\n",
        "    x =  pp.cont_exp(x)\n",
        "    x =  pp.remove_special_chars(x)\n",
        "    x = pp.remove_accented_chars(x)\n",
        "    #x = pp.remove_urls(x)\n",
        "    #x=pp.make_base(x)\n",
        "    vec = get_vectors(x).reshape(-1, vector_shape)\n",
        "    emotion = model.predict(vec)\n",
        "    return emotion\n"
      ],
      "metadata": {
        "id": "BwqJYC55RQKg"
      },
      "execution_count": null,
      "outputs": []
    },
    {
      "cell_type": "code",
      "source": [
        "#print(l)\n",
        "print(df['twitts'][8])\n",
        "get_pred(df['twitts'][8])"
      ],
      "metadata": {
        "colab": {
          "base_uri": "https://localhost:8080/"
        },
        "id": "agqKzkEaSEW-",
        "outputId": "eeb9a3b8-4c6a-46fc-b81a-da6f3d8ca26b"
      },
      "execution_count": 98,
      "outputs": [
        {
          "output_type": "stream",
          "name": "stdout",
          "text": [
            "is happy to have tickets for the concerts\n"
          ]
        },
        {
          "output_type": "execute_result",
          "data": {
            "text/plain": [
              "array(['JOY'], dtype=object)"
            ]
          },
          "metadata": {},
          "execution_count": 98
        }
      ]
    },
    {
      "cell_type": "code",
      "source": [
        "print(df['twitts'][8])\n",
        "print(df['sentiment'][8])\n"
      ],
      "metadata": {
        "colab": {
          "base_uri": "https://localhost:8080/"
        },
        "id": "A6DzX624S_Gs",
        "outputId": "387d1c6c-7b2a-4bf0-b6ed-d5965dc5d607"
      },
      "execution_count": null,
      "outputs": [
        {
          "output_type": "stream",
          "name": "stdout",
          "text": [
            "is happy to have tickets for the concerts\n",
            "1\n"
          ]
        }
      ]
    },
    {
      "cell_type": "code",
      "source": [
        "new_tweet=public_tweets[0].text\n",
        "print(new_tweet)\n",
        "get_pred(new_tweet)\n"
      ],
      "metadata": {
        "colab": {
          "base_uri": "https://localhost:8080/"
        },
        "id": "YG3HXuuKT7Dp",
        "outputId": "6feb7573-29ea-471d-f76e-e214ee661b30"
      },
      "execution_count": null,
      "outputs": [
        {
          "output_type": "stream",
          "name": "stdout",
          "text": [
            "The #dollar retreated from a two-week top against its major peers on Thursday as investors trimmed bets that the… https://t.co/3qrTC48W40\n"
          ]
        },
        {
          "output_type": "execute_result",
          "data": {
            "text/plain": [
              "array(['SURPRISE'], dtype=object)"
            ]
          },
          "metadata": {},
          "execution_count": 84
        }
      ]
    },
    {
      "cell_type": "code",
      "source": [
        "glove_vectors.get('blessed')"
      ],
      "metadata": {
        "colab": {
          "base_uri": "https://localhost:8080/"
        },
        "id": "EnQR4MJdSd8m",
        "outputId": "90412e31-4d1d-40f9-afa2-37faf14538d4"
      },
      "execution_count": null,
      "outputs": [
        {
          "output_type": "execute_result",
          "data": {
            "text/plain": [
              "array(['0.13434', '0.82289', '-0.33547', '0.17134', '-0.304', '0.43794',\n",
              "       '-0.49331', '0.35286', '-0.22626', '-0.63663', '-0.0018836',\n",
              "       '-0.24753', '1.0208', '0.22302', '-0.2165', '-1.1623', '0.09048',\n",
              "       '0.64609', '-0.91615', '1.0667', '-0.96011', '-0.18434',\n",
              "       '-0.46175', '-0.093568', '0.14346', '0.33197', '-0.19877',\n",
              "       '0.50449', '0.065516', '0.04772', '0.33957', '-0.40748', '0.54639',\n",
              "       '0.21533', '0.35969', '-0.10939', '-0.72263', '0.49397', '0.19877',\n",
              "       '-0.21124', '0.11769', '0.54988', '1.069', '-0.35561', '0.22211',\n",
              "       '-0.30089', '0.41206', '0.13876', '0.19043', '-0.055866',\n",
              "       '-0.53147', '0.21072', '0.89793', '0.12925', '-0.78262', '-1.2799',\n",
              "       '0.36994', '0.49705', '0.41449', '-0.62019', '0.40722', '0.52996',\n",
              "       '-0.63554', '-0.90289', '-0.4019', '-0.59956', '0.1665',\n",
              "       '-0.32778', '0.44646', '-0.86972', '0.62842', '-0.31689',\n",
              "       '0.21382', '0.058251', '0.70049', '-0.14113', '0.18853',\n",
              "       '-0.27813', '0.05781', '0.17529', '-0.27081', '0.034248',\n",
              "       '-0.5529', '1.1177', '-0.64535', '-0.44052', '0.42609', '-0.47809',\n",
              "       '-0.10191', '-0.90821', '-0.18065', '-0.44552', '0.29703',\n",
              "       '0.61697', '-0.74142', '-0.6855', '-0.19718', '-0.57613',\n",
              "       '-0.83499', '0.026016'], dtype='<U10')"
            ]
          },
          "metadata": {},
          "execution_count": 106
        }
      ]
    },
    {
      "cell_type": "code",
      "source": [
        "# Functions to print scores\n",
        "def training_scores(y_act, y_pred):\n",
        "    acc = round(accuracy_score(y_act, y_pred), 3)\n",
        "    #f1 = round(f1_score(y_act, y_pred), 3)\n",
        "    print(f'Training Scores: Accuracy={acc}')\n",
        "    \n",
        "def validation_scores(y_act, y_pred):\n",
        "    acc = round(accuracy_score(y_act, y_pred), 3)\n",
        "    #f1 = round(f1_score(y_act, y_pred), 3)\n",
        "    print(f'Validation Scores: Accuracy={acc}')"
      ],
      "metadata": {
        "id": "GDTsx-LMfJKV"
      },
      "execution_count": null,
      "outputs": []
    },
    {
      "cell_type": "code",
      "source": [],
      "metadata": {
        "colab": {
          "base_uri": "https://localhost:8080/",
          "height": 182
        },
        "id": "lDWzSWWrfLK3",
        "outputId": "6f3311dd-dfef-49a6-e2c9-3c729ced4632"
      },
      "execution_count": null,
      "outputs": [
        {
          "output_type": "error",
          "ename": "NameError",
          "evalue": "ignored",
          "traceback": [
            "\u001b[0;31m---------------------------------------------------------------------------\u001b[0m",
            "\u001b[0;31mNameError\u001b[0m                                 Traceback (most recent call last)",
            "\u001b[0;32m<ipython-input-59-3a5dc29b92c6>\u001b[0m in \u001b[0;36m<cell line: 1>\u001b[0;34m()\u001b[0m\n\u001b[0;32m----> 1\u001b[0;31m \u001b[0my_train_pred\u001b[0m \u001b[0;34m=\u001b[0m \u001b[0mclf\u001b[0m\u001b[0;34m.\u001b[0m\u001b[0mpredict\u001b[0m\u001b[0;34m(\u001b[0m\u001b[0mX_train\u001b[0m\u001b[0;34m)\u001b[0m\u001b[0;34m\u001b[0m\u001b[0;34m\u001b[0m\u001b[0m\n\u001b[0m\u001b[1;32m      2\u001b[0m \u001b[0my_test_pred\u001b[0m \u001b[0;34m=\u001b[0m \u001b[0mclf\u001b[0m\u001b[0;34m.\u001b[0m\u001b[0mpredict\u001b[0m\u001b[0;34m(\u001b[0m\u001b[0mX_test\u001b[0m\u001b[0;34m)\u001b[0m\u001b[0;34m\u001b[0m\u001b[0;34m\u001b[0m\u001b[0m\n",
            "\u001b[0;31mNameError\u001b[0m: name 'X_train' is not defined"
          ]
        }
      ]
    },
    {
      "cell_type": "code",
      "source": [],
      "metadata": {
        "colab": {
          "base_uri": "https://localhost:8080/",
          "height": 74
        },
        "id": "zm1lcmO7g6d_",
        "outputId": "a3d9ef95-b7b7-477f-d686-8d94ea924f19"
      },
      "execution_count": null,
      "outputs": [
        {
          "output_type": "execute_result",
          "data": {
            "text/plain": [
              "LinearSVC()"
            ],
            "text/html": [
              "<style>#sk-container-id-2 {color: black;background-color: white;}#sk-container-id-2 pre{padding: 0;}#sk-container-id-2 div.sk-toggleable {background-color: white;}#sk-container-id-2 label.sk-toggleable__label {cursor: pointer;display: block;width: 100%;margin-bottom: 0;padding: 0.3em;box-sizing: border-box;text-align: center;}#sk-container-id-2 label.sk-toggleable__label-arrow:before {content: \"▸\";float: left;margin-right: 0.25em;color: #696969;}#sk-container-id-2 label.sk-toggleable__label-arrow:hover:before {color: black;}#sk-container-id-2 div.sk-estimator:hover label.sk-toggleable__label-arrow:before {color: black;}#sk-container-id-2 div.sk-toggleable__content {max-height: 0;max-width: 0;overflow: hidden;text-align: left;background-color: #f0f8ff;}#sk-container-id-2 div.sk-toggleable__content pre {margin: 0.2em;color: black;border-radius: 0.25em;background-color: #f0f8ff;}#sk-container-id-2 input.sk-toggleable__control:checked~div.sk-toggleable__content {max-height: 200px;max-width: 100%;overflow: auto;}#sk-container-id-2 input.sk-toggleable__control:checked~label.sk-toggleable__label-arrow:before {content: \"▾\";}#sk-container-id-2 div.sk-estimator input.sk-toggleable__control:checked~label.sk-toggleable__label {background-color: #d4ebff;}#sk-container-id-2 div.sk-label input.sk-toggleable__control:checked~label.sk-toggleable__label {background-color: #d4ebff;}#sk-container-id-2 input.sk-hidden--visually {border: 0;clip: rect(1px 1px 1px 1px);clip: rect(1px, 1px, 1px, 1px);height: 1px;margin: -1px;overflow: hidden;padding: 0;position: absolute;width: 1px;}#sk-container-id-2 div.sk-estimator {font-family: monospace;background-color: #f0f8ff;border: 1px dotted black;border-radius: 0.25em;box-sizing: border-box;margin-bottom: 0.5em;}#sk-container-id-2 div.sk-estimator:hover {background-color: #d4ebff;}#sk-container-id-2 div.sk-parallel-item::after {content: \"\";width: 100%;border-bottom: 1px solid gray;flex-grow: 1;}#sk-container-id-2 div.sk-label:hover label.sk-toggleable__label {background-color: #d4ebff;}#sk-container-id-2 div.sk-serial::before {content: \"\";position: absolute;border-left: 1px solid gray;box-sizing: border-box;top: 0;bottom: 0;left: 50%;z-index: 0;}#sk-container-id-2 div.sk-serial {display: flex;flex-direction: column;align-items: center;background-color: white;padding-right: 0.2em;padding-left: 0.2em;position: relative;}#sk-container-id-2 div.sk-item {position: relative;z-index: 1;}#sk-container-id-2 div.sk-parallel {display: flex;align-items: stretch;justify-content: center;background-color: white;position: relative;}#sk-container-id-2 div.sk-item::before, #sk-container-id-2 div.sk-parallel-item::before {content: \"\";position: absolute;border-left: 1px solid gray;box-sizing: border-box;top: 0;bottom: 0;left: 50%;z-index: -1;}#sk-container-id-2 div.sk-parallel-item {display: flex;flex-direction: column;z-index: 1;position: relative;background-color: white;}#sk-container-id-2 div.sk-parallel-item:first-child::after {align-self: flex-end;width: 50%;}#sk-container-id-2 div.sk-parallel-item:last-child::after {align-self: flex-start;width: 50%;}#sk-container-id-2 div.sk-parallel-item:only-child::after {width: 0;}#sk-container-id-2 div.sk-dashed-wrapped {border: 1px dashed gray;margin: 0 0.4em 0.5em 0.4em;box-sizing: border-box;padding-bottom: 0.4em;background-color: white;}#sk-container-id-2 div.sk-label label {font-family: monospace;font-weight: bold;display: inline-block;line-height: 1.2em;}#sk-container-id-2 div.sk-label-container {text-align: center;}#sk-container-id-2 div.sk-container {/* jupyter's `normalize.less` sets `[hidden] { display: none; }` but bootstrap.min.css set `[hidden] { display: none !important; }` so we also need the `!important` here to be able to override the default hidden behavior on the sphinx rendered scikit-learn.org. See: https://github.com/scikit-learn/scikit-learn/issues/21755 */display: inline-block !important;position: relative;}#sk-container-id-2 div.sk-text-repr-fallback {display: none;}</style><div id=\"sk-container-id-2\" class=\"sk-top-container\"><div class=\"sk-text-repr-fallback\"><pre>LinearSVC()</pre><b>In a Jupyter environment, please rerun this cell to show the HTML representation or trust the notebook. <br />On GitHub, the HTML representation is unable to render, please try loading this page with nbviewer.org.</b></div><div class=\"sk-container\" hidden><div class=\"sk-item\"><div class=\"sk-estimator sk-toggleable\"><input class=\"sk-toggleable__control sk-hidden--visually\" id=\"sk-estimator-id-2\" type=\"checkbox\" checked><label for=\"sk-estimator-id-2\" class=\"sk-toggleable__label sk-toggleable__label-arrow\">LinearSVC</label><div class=\"sk-toggleable__content\"><pre>LinearSVC()</pre></div></div></div></div></div>"
            ]
          },
          "metadata": {},
          "execution_count": 58
        }
      ]
    }
  ]
}